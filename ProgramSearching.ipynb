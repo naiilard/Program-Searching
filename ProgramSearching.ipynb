{
  "nbformat": 4,
  "nbformat_minor": 0,
  "metadata": {
    "colab": {
      "provenance": [],
      "authorship_tag": "ABX9TyPf+d0rOuN5VNJkd5E9tntk",
      "include_colab_link": true
    },
    "kernelspec": {
      "name": "python3",
      "display_name": "Python 3"
    },
    "language_info": {
      "name": "python"
    }
  },
  "cells": [
    {
      "cell_type": "markdown",
      "metadata": {
        "id": "view-in-github",
        "colab_type": "text"
      },
      "source": [
        "<a href=\"https://colab.research.google.com/github/naiilard/Program-Searching/blob/main/ProgramSearching.ipynb\" target=\"_parent\"><img src=\"https://colab.research.google.com/assets/colab-badge.svg\" alt=\"Open In Colab\"/></a>"
      ]
    },
    {
      "cell_type": "code",
      "execution_count": 2,
      "metadata": {
        "id": "rkhjB2-7Izhj",
        "colab": {
          "base_uri": "https://localhost:8080/"
        },
        "outputId": "816573e0-583f-40ff-a76a-4e782cf2b7a5"
      },
      "outputs": [
        {
          "output_type": "stream",
          "name": "stdout",
          "text": [
            "Masukkan banyak data: 6\n",
            "Masukkan data ke-1: 5\n",
            "Masukkan data ke-2: 2\n",
            "Masukkan data ke-3: 7\n",
            "Masukkan data ke-4: 1\n",
            "Masukkan data ke-5: 9\n",
            "Masukkan data ke-6: 3\n",
            "Nilai T adalah [5, 2, 7, 1, 9, 3]\n",
            "Masukkan nilai yang ingin dicari: 7\n",
            "Nilai 7 ditemukan pada indeks ke-2\n"
          ]
        }
      ],
      "source": [
        "# Buatlah algoritma dan program untuk setiap kasus berikut\n",
        "# 1. Program SEARCHING, buatlah program untuk menuliskan indeks berapa saja pada array tersebut suatu nilai X ditemukan\n",
        "\n",
        "N = int(input('Masukkan banyak data: ')) # Input banyak items pada array\n",
        "T = [] # Array kosong\n",
        "\n",
        "# Program menginput nilai pada array\n",
        "for i in range(N):\n",
        "  print(f\"Masukkan data ke-{i+1}: \", end = \"\")\n",
        "  data = int(input())\n",
        "  T.append(data)\n",
        "print('Nilai T adalah', T)\n",
        "\n",
        "# Program mencari data\n",
        "t = int(input('Masukkan nilai yang ingin dicari: ')) # Input angka yang akan dicari\n",
        "\n",
        "ketemu = False\n",
        "for i in range(N):\n",
        "  if T[i] == t:\n",
        "    print(f\"Nilai {t} ditemukan pada indeks ke-{i}\")\n",
        "    ketemu = True\n",
        "\n",
        "if not ketemu:\n",
        "  print(f\"Nilai {t} tidak ditemukan\")"
      ]
    }
  ]
}